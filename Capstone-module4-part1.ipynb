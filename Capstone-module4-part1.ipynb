{
 "cells": [
  {
   "cell_type": "markdown",
   "metadata": {},
   "source": [
    "<h1 style=\"text-align:center\">Applied Data Science Capstone Project</h1>"
   ]
  },
  {
   "cell_type": "markdown",
   "metadata": {},
   "source": [
    "### Module 4 Peer-graded Assignment: Capstone Project - The Battle of Neighborhoods"
   ]
  },
  {
   "cell_type": "markdown",
   "metadata": {},
   "source": [
    "You have the opportunity to be as creative as you want and come up with an idea to leverage the Foursquare location data to explore or compare neighborhoods or cities of your choice or to come up with a problem that you can use the Foursquare location data to solve. \n",
    "\n",
    "### Review criteria\n",
    "Part 1:\n",
    "1. A description of the problem and a discussion of the background. (15 marks)\n",
    "2. A description of the data and how it will be used to solve the problem. (15 marks)\n",
    "\n",
    "Part 2:\n",
    "1. A link to your Notebook on your Github repository, showing your code. (15 marks)\n",
    "2. A full report consisting of all of the following components (15 marks):\n",
    "- Introduction where you discuss the business problem and who would be interested in this project.\n",
    "- Data where you describe the data that will be used to solve the problem and the source of the data.\n",
    "- Methodology section which represents the main component of the report where you discuss and describe any exploratory data analysis that you did, any inferential statistical testing that you performed, if any, and what machine learnings were used and why.\n",
    "- Results section where you discuss the results.\n",
    "- Discussion section where you discuss any observations you noted and any recommendations you can make based on the results.\n",
    "- Conclusion section where you conclude the report.\n",
    "3. Your choice of a presentation or blogpost."
   ]
  },
  {
   "cell_type": "markdown",
   "metadata": {},
   "source": [
    "## Part 1"
   ]
  },
  {
   "cell_type": "markdown",
   "metadata": {},
   "source": [
    "### 1. Problem and background description "
   ]
  },
  {
   "cell_type": "markdown",
   "metadata": {},
   "source": [
    "I live in UK and once the national lockdown restrictions will be lifted, I would like to book a weekend getaway in London to enjoy the city life and live as a tourist for a couple of days.\n",
    "\n",
    "Now the question is where should I book my stay. We will answer this question based on location only, rate per night, rating or other factors will not influence our decision for this project.  \n",
    "The aim of this project will be to find the best neighborhood in London from a touristic point of view and we will choose the best based on how many restaurants, cafes, pubs and other atractions are located in that area. \n",
    "\n",
    "This analysis will help other tourists discover interesting areas in London and perhaps current residents of London that haven't got the chance until now to explore all the surroundings and would love to know more about their or other neighborhoods."
   ]
  },
  {
   "cell_type": "markdown",
   "metadata": {},
   "source": [
    "### 2. What data and how it will be used to answer our question ? "
   ]
  },
  {
   "cell_type": "markdown",
   "metadata": {},
   "source": [
    "In order to make this analysis, we require geolocation data for the city of London. The starting point will be the postal codes, on which we can further our search and explore neighborhoods and venues in these area, as well as additional tourist attractions. \n",
    "\n",
    "For the neighborhoods and postal codes of London, we will scrape the <a href='https://en.wikipedia.org/wiki/List_of_areas_of_London'>Wikipedia page </a> where we find information as follows: \n",
    "\n",
    "* Location = district/area part of neighborhood\n",
    "* London borough = neighborhood \n",
    "* Post town = town in the neighborhood \n",
    "\n",
    "There are 32 neighborhoods in the London area since 1 April 1965. \n",
    "* 12 designated Inner London boroughs\n",
    "* remaining twenty were designated Outer London boroughs\n",
    "\n",
    "For more details about neighborhoods of London such as local authorithy or headquarters, visit this <a href='https://en.wikipedia.org/wiki/List_of_London_boroughs'>link.</a>"
   ]
  },
  {
   "cell_type": "markdown",
   "metadata": {},
   "source": [
    "Because Wikipedia lacks information about the latitude and longitude of each area in discussion, we will use the <a href='https://geocoder.readthedocs.io/index.html'>Geocoder Python package</a> to get the gepgraphical locations.\n",
    "\n",
    "The following columns are added to our initial dataset which prepares our data.\n",
    "\n",
    "* latitude : Latitude for Neighbourhood\n",
    "* longitude : Longitude for Neighbourhood"
   ]
  },
  {
   "cell_type": "markdown",
   "metadata": {},
   "source": [
    "For additional information about different venues in our neighborhoods, we will use Foursquare.\n",
    "\n",
    "Foursquare is a location data provider which makes continuous updates to its data making it very reliable. \n",
    "\n",
    "The information retrieved within an area of interest includes venue names, locations, menus and even photos. As such, the foursquare location platform will be used as the sole data source since all the stated required information can be obtained through the API.\n",
    "\n",
    "After finding the list of neighbourhoods, we then connect to the Foursquare API to gather information about venues inside each and every neighbourhood. For each neighbourhood, we have chosen the radius to be 500 meters.\n",
    "\n",
    "The data retrieved from Foursquare contained information of venues within a specified distance of the longitude and latitude of the postcodes. The information obtained per venue as follows:\n",
    "\n",
    "Neighbourhood : Name of the Neighbourhood\n",
    "Neighbourhood Latitude : Latitude of the Neighbourhood\n",
    "Neighbourhood Longitude : Longitude of the Neighbourhood\n",
    "Venue : Name of the Venue\n",
    "Venue Latitude : Latitude of Venue\n",
    "Venue Longitude : Longitude of Venue\n",
    "Venue Category : Category of Venue\n",
    "Based on all the information collected for both London and Paris, we have sufficient data to build our model. We cluster the neighbourhoods together based on similar venue categories. We then present our observations and findings. Using this data, our stakeholders can take the necessary decision."
   ]
  },
  {
   "cell_type": "markdown",
   "metadata": {},
   "source": [
    "## Part 2"
   ]
  },
  {
   "cell_type": "code",
   "execution_count": null,
   "metadata": {},
   "outputs": [],
   "source": []
  }
 ],
 "metadata": {
  "kernelspec": {
   "display_name": "Python",
   "language": "python",
   "name": "conda-env-python-py"
  },
  "language_info": {
   "codemirror_mode": {
    "name": "ipython",
    "version": 3
   },
   "file_extension": ".py",
   "mimetype": "text/x-python",
   "name": "python",
   "nbconvert_exporter": "python",
   "pygments_lexer": "ipython3",
   "version": "3.6.12"
  }
 },
 "nbformat": 4,
 "nbformat_minor": 4
}
